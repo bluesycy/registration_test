{
 "cells": [
  {
   "cell_type": "code",
   "execution_count": 6,
   "id": "a8e766e3-a4f3-4345-8697-f4a63b0e29da",
   "metadata": {},
   "outputs": [],
   "source": [
    "import SimpleITK as sitk\n",
    "\n",
    "import numpy as np\n",
    "import os"
   ]
  },
  {
   "cell_type": "code",
   "execution_count": 7,
   "id": "0a4bf5c5-910e-452f-a2be-12bd46a52ad4",
   "metadata": {},
   "outputs": [],
   "source": [
    "import numpy as np\n",
    "import matplotlib.pyplot as plt\n",
    "import nrrd\n",
    "import scipy\n",
    "from numba import cuda\n",
    "from tqdm import trange"
   ]
  },
  {
   "cell_type": "code",
   "execution_count": 8,
   "id": "826d662e-94c7-40bf-b8ad-059a461e7634",
   "metadata": {},
   "outputs": [],
   "source": [
    "import scipy.ndimage as ndimage"
   ]
  },
  {
   "cell_type": "code",
   "execution_count": 53,
   "id": "d5fa1edc-7420-48d7-8220-ba0d9944ad31",
   "metadata": {},
   "outputs": [],
   "source": [
    "reader = sitk.ImageFileReader()\n",
    "reader.SetImageIO(\"NrrdImageIO\")\n",
    "reader.SetFileName(\"20231013_191710_ref_2678_2805.nrrd\")\n",
    "moving_image = reader.Execute()\n",
    "\n",
    "\n",
    "reader.SetFileName(\"20231013_191710_ref_19414_19584.nrrd\")\n",
    "fixed_image = reader.Execute()"
   ]
  },
  {
   "cell_type": "code",
   "execution_count": 38,
   "id": "63b395bf-2eb2-40ad-967a-3beada2af008",
   "metadata": {},
   "outputs": [],
   "source": [
    "# # test in 2D\n",
    "\n",
    "# fixed_image = fixed_image_volumn[:,:,10]\n",
    "\n",
    "\n",
    "# plt.figure()\n",
    "# plt.imshow(fixed_image)\n",
    "\n",
    "\n",
    "# nMu = [-300,0]\n",
    "\n",
    "# affine_matrix = np.array([[1, 0, nMu[0]], [0, 1, nMu[1]], [0, 0, 1]])\n",
    "\n",
    "\n",
    "# plt.figure()\n",
    "# moving_image = ndimage.affine_transform(fixed_image, affine_matrix, output_shape = (fixed_image.shape))\n",
    "\n",
    "# plt.imshow(moving_image)"
   ]
  },
  {
   "cell_type": "code",
   "execution_count": 54,
   "id": "9a61cdc5-45b9-4bb9-a32e-0bd2425211b1",
   "metadata": {},
   "outputs": [],
   "source": [
    "initial_transform = sitk.CenteredTransformInitializer(\n",
    "    fixed_image,\n",
    "    moving_image,\n",
    "    sitk.Euler3DTransform(),\n",
    "    sitk.CenteredTransformInitializerFilter.GEOMETRY,\n",
    ")"
   ]
  },
  {
   "cell_type": "code",
   "execution_count": null,
   "id": "a2fb1d38-e9a2-436d-a09d-23bd9dfbfb9f",
   "metadata": {},
   "outputs": [],
   "source": []
  }
 ],
 "metadata": {
  "kernelspec": {
   "display_name": "gpu_registration",
   "language": "python",
   "name": "gpu_registration"
  },
  "language_info": {
   "codemirror_mode": {
    "name": "ipython",
    "version": 3
   },
   "file_extension": ".py",
   "mimetype": "text/x-python",
   "name": "python",
   "nbconvert_exporter": "python",
   "pygments_lexer": "ipython3",
   "version": "3.11.5"
  }
 },
 "nbformat": 4,
 "nbformat_minor": 5
}
